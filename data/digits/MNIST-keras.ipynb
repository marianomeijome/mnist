{
 "cells": [
  {
   "cell_type": "code",
   "execution_count": 33,
   "metadata": {},
   "outputs": [],
   "source": [
    "from keras.models import Sequential\n",
    "from keras.layers import Dense, Conv2D, MaxPooling2D, Flatten, Dropout\n",
    "from keras.utils import to_categorical\n",
    "from keras.callbacks import EarlyStopping\n",
    "\n",
    "import numpy as np\n",
    "import matplotlib.pyplot as plt\n",
    "import cv2"
   ]
  },
  {
   "cell_type": "code",
   "execution_count": 201,
   "metadata": {},
   "outputs": [],
   "source": [
    "from keras.datasets import mnist\n",
    "\n",
    "(x_train, y_train), (x_test, y_test) = mnist.load_data()"
   ]
  },
  {
   "cell_type": "code",
   "execution_count": 203,
   "metadata": {},
   "outputs": [
    {
     "data": {
      "text/plain": [
       "(60000, 28, 28)"
      ]
     },
     "execution_count": 203,
     "metadata": {},
     "output_type": "execute_result"
    }
   ],
   "source": [
    "x_train.shape"
   ]
  },
  {
   "cell_type": "code",
   "execution_count": 14,
   "metadata": {},
   "outputs": [],
   "source": [
    "# flatten 28*28 images to a 784 vector for each image\n",
    "num_pixels = x_train.shape[1] * x_train.shape[2]\n",
    "X_train = x_train.reshape(x_train.shape[0], num_pixels).astype('float32')\n",
    "X_test = x_test.reshape(x_test.shape[0], num_pixels).astype('float32')"
   ]
  },
  {
   "cell_type": "code",
   "execution_count": 15,
   "metadata": {},
   "outputs": [
    {
     "data": {
      "text/plain": [
       "(60000, 784)"
      ]
     },
     "execution_count": 15,
     "metadata": {},
     "output_type": "execute_result"
    }
   ],
   "source": [
    "X_train.shape"
   ]
  },
  {
   "cell_type": "code",
   "execution_count": 16,
   "metadata": {},
   "outputs": [
    {
     "data": {
      "text/plain": [
       "(60000,)"
      ]
     },
     "execution_count": 16,
     "metadata": {},
     "output_type": "execute_result"
    }
   ],
   "source": [
    "y_train.shape"
   ]
  },
  {
   "cell_type": "code",
   "execution_count": 17,
   "metadata": {},
   "outputs": [],
   "source": [
    "# one hot encode outputs\n",
    "y_train = to_categorical(y_train)\n",
    "y_test = to_categorical(y_test)\n",
    "num_classes = y_test.shape[1]"
   ]
  },
  {
   "cell_type": "code",
   "execution_count": 18,
   "metadata": {},
   "outputs": [],
   "source": [
    "early_stopping_monitor = EarlyStopping(patience=3)"
   ]
  },
  {
   "cell_type": "markdown",
   "metadata": {},
   "source": [
    "## 4 layer model"
   ]
  },
  {
   "cell_type": "code",
   "execution_count": 19,
   "metadata": {},
   "outputs": [
    {
     "name": "stdout",
     "output_type": "stream",
     "text": [
      "Train on 42000 samples, validate on 18000 samples\n",
      "Epoch 1/20\n",
      "42000/42000 [==============================] - 12s 290us/step - loss: 2.2388 - acc: 0.7792 - val_loss: 0.4383 - val_acc: 0.8950\n",
      "Epoch 2/20\n",
      "42000/42000 [==============================] - 11s 258us/step - loss: 0.3200 - acc: 0.9148 - val_loss: 0.2757 - val_acc: 0.9271\n",
      "Epoch 3/20\n",
      "42000/42000 [==============================] - 11s 260us/step - loss: 0.2271 - acc: 0.9373 - val_loss: 0.2376 - val_acc: 0.9359\n",
      "Epoch 4/20\n",
      "42000/42000 [==============================] - 11s 260us/step - loss: 0.1920 - acc: 0.9469 - val_loss: 0.2144 - val_acc: 0.9404\n",
      "Epoch 5/20\n",
      "42000/42000 [==============================] - 11s 262us/step - loss: 0.1586 - acc: 0.9538 - val_loss: 0.2319 - val_acc: 0.9411\n",
      "Epoch 6/20\n",
      "42000/42000 [==============================] - 12s 284us/step - loss: 0.1410 - acc: 0.9599 - val_loss: 0.1803 - val_acc: 0.9508\n",
      "Epoch 7/20\n",
      "42000/42000 [==============================] - 13s 299us/step - loss: 0.1273 - acc: 0.9633 - val_loss: 0.1803 - val_acc: 0.9527\n",
      "Epoch 8/20\n",
      "42000/42000 [==============================] - 12s 276us/step - loss: 0.1125 - acc: 0.9677 - val_loss: 0.1838 - val_acc: 0.9528\n",
      "Epoch 9/20\n",
      "42000/42000 [==============================] - 11s 266us/step - loss: 0.1019 - acc: 0.9711 - val_loss: 0.1765 - val_acc: 0.9554\n",
      "Epoch 10/20\n",
      "42000/42000 [==============================] - 11s 271us/step - loss: 0.0938 - acc: 0.9728 - val_loss: 0.1582 - val_acc: 0.9607\n",
      "Epoch 11/20\n",
      "42000/42000 [==============================] - 11s 264us/step - loss: 0.0858 - acc: 0.9754 - val_loss: 0.1601 - val_acc: 0.9587\n",
      "Epoch 12/20\n",
      "42000/42000 [==============================] - 12s 282us/step - loss: 0.0823 - acc: 0.9771 - val_loss: 0.1726 - val_acc: 0.9593\n",
      "Epoch 13/20\n",
      "42000/42000 [==============================] - 11s 267us/step - loss: 0.0739 - acc: 0.9784 - val_loss: 0.1586 - val_acc: 0.9631\n",
      "Baseline Error: 3.13%\n"
     ]
    }
   ],
   "source": [
    "# Create the model: model\n",
    "model_1 = Sequential()\n",
    "\n",
    "# Add the first hidden layer\n",
    "model_1.add(Dense(50, activation='relu', input_shape=(784,)))\n",
    "\n",
    "# Add the second hidden layer\n",
    "model_1.add(Dense(50, activation='relu'))\n",
    "\n",
    "# Add the third hidden layer\n",
    "model_1.add(Dense(50, activation='relu'))\n",
    "\n",
    "# Add the fourth hidden layer\n",
    "model_1.add(Dense(50, activation='relu'))\n",
    "\n",
    "# Add the output layer\n",
    "model_1.add(Dense(num_classes, activation='softmax'))\n",
    "\n",
    "# Compile the model\n",
    "model_1.compile(optimizer='adam', loss='categorical_crossentropy', metrics=['accuracy'])\n",
    "\n",
    "# Fit the model\n",
    "model_1.fit(X_train, y_train, validation_split=0.3, epochs=20, callbacks = [early_stopping_monitor])\n",
    "\n",
    "# Final evaluation of the model\n",
    "scores = model_1.evaluate(X_test, y_test, verbose=0)\n",
    "print(\"Baseline Error: %.2f%%\" % (100-scores[1]*100))\n"
   ]
  },
  {
   "cell_type": "markdown",
   "metadata": {},
   "source": [
    "## CNN model"
   ]
  },
  {
   "cell_type": "code",
   "execution_count": 204,
   "metadata": {},
   "outputs": [],
   "source": [
    "# load data\n",
    "(X_train, y_train), (X_test, y_test) = mnist.load_data()\n",
    "\n",
    "# reshape to be [samples][pixels][width][height]\n",
    "X_train = X_train.reshape(X_train.shape[0], 28, 28, 1).astype('float32')\n",
    "X_test = X_test.reshape(X_test.shape[0], 28, 28, 1).astype('float32')\n",
    "\n",
    "# normalize inputs from 0-255 to 0-1\n",
    "X_train = X_train / 255\n",
    "X_test = X_test / 255\n",
    "\n",
    "# one hot encode outputs\n",
    "y_train = to_categorical(y_train)\n",
    "y_test = to_categorical(y_test)\n",
    "num_classes = y_test.shape[1]"
   ]
  },
  {
   "cell_type": "code",
   "execution_count": 10,
   "metadata": {},
   "outputs": [],
   "source": [
    "early_stopping_monitor = EarlyStopping(patience=3)"
   ]
  },
  {
   "cell_type": "code",
   "execution_count": 11,
   "metadata": {},
   "outputs": [
    {
     "name": "stdout",
     "output_type": "stream",
     "text": [
      "Train on 42000 samples, validate on 18000 samples\n",
      "Epoch 1/20\n",
      "42000/42000 [==============================] - 5s 113us/step - loss: 0.4990 - acc: 0.8421 - val_loss: 0.1176 - val_acc: 0.9653\n",
      "Epoch 2/20\n",
      "42000/42000 [==============================] - 2s 49us/step - loss: 0.1229 - acc: 0.9628 - val_loss: 0.0834 - val_acc: 0.9747\n",
      "Epoch 3/20\n",
      "42000/42000 [==============================] - 2s 49us/step - loss: 0.0851 - acc: 0.9737 - val_loss: 0.0726 - val_acc: 0.9774\n",
      "Epoch 4/20\n",
      "42000/42000 [==============================] - 2s 49us/step - loss: 0.0678 - acc: 0.9784 - val_loss: 0.0606 - val_acc: 0.9816\n",
      "Epoch 5/20\n",
      "42000/42000 [==============================] - 2s 50us/step - loss: 0.0606 - acc: 0.9813 - val_loss: 0.0628 - val_acc: 0.9819\n",
      "Epoch 6/20\n",
      "42000/42000 [==============================] - 2s 49us/step - loss: 0.0526 - acc: 0.9832 - val_loss: 0.0491 - val_acc: 0.9850\n",
      "Epoch 7/20\n",
      "42000/42000 [==============================] - 2s 49us/step - loss: 0.0466 - acc: 0.9852 - val_loss: 0.0535 - val_acc: 0.9844\n",
      "Epoch 8/20\n",
      "42000/42000 [==============================] - 2s 49us/step - loss: 0.0415 - acc: 0.9868 - val_loss: 0.0468 - val_acc: 0.9852\n",
      "Epoch 9/20\n",
      "42000/42000 [==============================] - 2s 49us/step - loss: 0.0377 - acc: 0.9881 - val_loss: 0.0456 - val_acc: 0.9860\n",
      "Epoch 10/20\n",
      "42000/42000 [==============================] - 2s 49us/step - loss: 0.0337 - acc: 0.9892 - val_loss: 0.0440 - val_acc: 0.9868\n",
      "Epoch 11/20\n",
      "42000/42000 [==============================] - 2s 49us/step - loss: 0.0342 - acc: 0.9889 - val_loss: 0.0421 - val_acc: 0.9871\n",
      "Epoch 12/20\n",
      "42000/42000 [==============================] - 2s 50us/step - loss: 0.0296 - acc: 0.9905 - val_loss: 0.0475 - val_acc: 0.9858\n",
      "Epoch 13/20\n",
      "42000/42000 [==============================] - 2s 50us/step - loss: 0.0294 - acc: 0.9902 - val_loss: 0.0425 - val_acc: 0.9864\n",
      "Epoch 14/20\n",
      "42000/42000 [==============================] - 2s 50us/step - loss: 0.0259 - acc: 0.9913 - val_loss: 0.0406 - val_acc: 0.9879\n",
      "Epoch 15/20\n",
      "42000/42000 [==============================] - 2s 49us/step - loss: 0.0247 - acc: 0.9915 - val_loss: 0.0372 - val_acc: 0.9889\n",
      "Epoch 16/20\n",
      "42000/42000 [==============================] - 2s 49us/step - loss: 0.0213 - acc: 0.9935 - val_loss: 0.0394 - val_acc: 0.9881\n",
      "Epoch 17/20\n",
      "42000/42000 [==============================] - 2s 48us/step - loss: 0.0200 - acc: 0.9936 - val_loss: 0.0363 - val_acc: 0.9889\n",
      "Epoch 18/20\n",
      "42000/42000 [==============================] - 2s 49us/step - loss: 0.0207 - acc: 0.9934 - val_loss: 0.0405 - val_acc: 0.9885\n",
      "Epoch 19/20\n",
      "42000/42000 [==============================] - 2s 49us/step - loss: 0.0210 - acc: 0.9925 - val_loss: 0.0380 - val_acc: 0.9883\n",
      "Epoch 20/20\n",
      "42000/42000 [==============================] - 2s 49us/step - loss: 0.0179 - acc: 0.9940 - val_loss: 0.0353 - val_acc: 0.9897\n",
      "Baseline Error: 0.76%\n"
     ]
    }
   ],
   "source": [
    "model_2 = Sequential()\n",
    "\n",
    "model_2.add(Conv2D(30, (5, 5), input_shape=(28, 28, 1), activation='relu'))\n",
    "\n",
    "model_2.add(MaxPooling2D(pool_size=(2, 2)))\n",
    "\n",
    "model_2.add(Conv2D(15, (3, 3), activation='relu'))\n",
    "\n",
    "model_2.add(MaxPooling2D(pool_size=(2, 2)))\n",
    "\n",
    "model_2.add(Dropout(0.2))\n",
    "\n",
    "model_2.add(Flatten())\n",
    "\n",
    "model_2.add(Dense(128, activation='relu'))\n",
    "\n",
    "model_2.add(Dense(50, activation='relu'))\n",
    "\n",
    "# Output layer\n",
    "model_2.add(Dense(num_classes, activation='softmax'))\n",
    "\n",
    "\n",
    "# Compile the model\n",
    "model_2.compile(optimizer='adam', loss='categorical_crossentropy', metrics=['accuracy'])\n",
    "\n",
    "# Fit the model\n",
    "model_2.fit(X_train, y_train, epochs=20, batch_size=200, validation_split=0.3, callbacks = [early_stopping_monitor])\n",
    "\n",
    "# Final evaluation of the model\n",
    "scores = model_2.evaluate(X_test, y_test, verbose=0)\n",
    "print(\"Baseline Error: %.2f%%\" % (100-scores[1]*100))"
   ]
  },
  {
   "cell_type": "markdown",
   "metadata": {},
   "source": [
    "<p>This saves the architecture of the model, weights, training config (loss,optimizer), state of optimizer, allowing to resume training where we last left off</p>"
   ]
  },
  {
   "cell_type": "code",
   "execution_count": 21,
   "metadata": {},
   "outputs": [],
   "source": [
    "model_2.save('mnist_cnn_model.h5')"
   ]
  },
  {
   "cell_type": "code",
   "execution_count": 22,
   "metadata": {},
   "outputs": [],
   "source": [
    "from keras.models import load_model\n",
    "mnist_model = load_model('mnist_cnn_model.h5')"
   ]
  },
  {
   "cell_type": "code",
   "execution_count": 23,
   "metadata": {},
   "outputs": [
    {
     "name": "stdout",
     "output_type": "stream",
     "text": [
      "_________________________________________________________________\n",
      "Layer (type)                 Output Shape              Param #   \n",
      "=================================================================\n",
      "conv2d_1 (Conv2D)            (None, 24, 24, 30)        780       \n",
      "_________________________________________________________________\n",
      "max_pooling2d_1 (MaxPooling2 (None, 12, 12, 30)        0         \n",
      "_________________________________________________________________\n",
      "conv2d_2 (Conv2D)            (None, 10, 10, 15)        4065      \n",
      "_________________________________________________________________\n",
      "max_pooling2d_2 (MaxPooling2 (None, 5, 5, 15)          0         \n",
      "_________________________________________________________________\n",
      "dropout_1 (Dropout)          (None, 5, 5, 15)          0         \n",
      "_________________________________________________________________\n",
      "flatten_1 (Flatten)          (None, 375)               0         \n",
      "_________________________________________________________________\n",
      "dense_6 (Dense)              (None, 128)               48128     \n",
      "_________________________________________________________________\n",
      "dense_7 (Dense)              (None, 50)                6450      \n",
      "_________________________________________________________________\n",
      "dense_8 (Dense)              (None, 10)                510       \n",
      "=================================================================\n",
      "Total params: 59,933\n",
      "Trainable params: 59,933\n",
      "Non-trainable params: 0\n",
      "_________________________________________________________________\n"
     ]
    }
   ],
   "source": [
    "mnist_model.summary()"
   ]
  },
  {
   "cell_type": "code",
   "execution_count": null,
   "metadata": {},
   "outputs": [],
   "source": []
  },
  {
   "cell_type": "code",
   "execution_count": null,
   "metadata": {},
   "outputs": [],
   "source": []
  },
  {
   "cell_type": "code",
   "execution_count": null,
   "metadata": {},
   "outputs": [],
   "source": []
  },
  {
   "cell_type": "code",
   "execution_count": null,
   "metadata": {},
   "outputs": [],
   "source": []
  },
  {
   "cell_type": "markdown",
   "metadata": {},
   "source": [
    "# productionizing\n"
   ]
  },
  {
   "cell_type": "code",
   "execution_count": null,
   "metadata": {},
   "outputs": [],
   "source": [
    "from keras.preprocessing import image\n",
    "from keras.models import load_model\n",
    "import cv2\n",
    "import numpy as np\n",
    "import matplotlib.pyplot as plt\n",
    "\n",
    "mnist_model = load_model('mnist_cnn_model.h5')\n",
    "\n",
    "def predict_user_img(img_path, model):\n",
    "    # takes user image as input, preprocesses it,\n",
    "    # and returns the prediction\n",
    "    \n",
    "    img = cv2.imread(img_path, 0)\n",
    "    img = cv2.resize(img, (28, 28))\n",
    "    img = cv2.bitwise_not(img)\n",
    "    \n",
    "    if(model == 'model_1'):\n",
    "        x = img.reshape(1,784).astype('float32')\n",
    "        probs = model_1.predict(x)\n",
    "        prediction = np.argmax(probs)\n",
    "        return prediction, plt.imshow(img)\n",
    "    \n",
    "    elif(model == 'mnist_model'):\n",
    "        x = img.reshape(1, 28, 28,1).astype('float32')\n",
    "        probs = mnist_model.predict(x)\n",
    "        prediction = np.argmax(probs)        \n",
    "        return prediction, plt.imshow(img)"
   ]
  },
  {
   "cell_type": "code",
   "execution_count": 11,
   "metadata": {},
   "outputs": [
    {
     "data": {
      "text/plain": [
       "(3, <matplotlib.image.AxesImage at 0x2a5173a5c50>)"
      ]
     },
     "execution_count": 11,
     "metadata": {},
     "output_type": "execute_result"
    },
    {
     "data": {
      "image/png": "[encoded data removed]",
      "text/plain": [
       "<Figure size 432x288 with 1 Axes>"
      ]
     },
     "metadata": {
      "needs_background": "light"
     },
     "output_type": "display_data"
    }
   ],
   "source": [
    "predict_user_img('digit3.png', 'mnist_model')"
   ]
  },
  {
   "cell_type": "code",
   "execution_count": null,
   "metadata": {},
   "outputs": [],
   "source": []
  },
  {
   "cell_type": "code",
   "execution_count": null,
   "metadata": {},
   "outputs": [],
   "source": []
  },
  {
   "cell_type": "code",
   "execution_count": null,
   "metadata": {},
   "outputs": [],
   "source": []
  },
  {
   "cell_type": "code",
   "execution_count": 335,
   "metadata": {},
   "outputs": [],
   "source": [
    "import cv2\n",
    "import numpy as np \n",
    "\n",
    "drawing=False # true if mouse is pressed\n",
    "mode=True # if True, draw rectangle. Press 'm' to toggle to curve\n",
    "\n",
    "# mouse callback function\n",
    "def interactive_drawing(event,x,y,flags,param):\n",
    "    global ix,iy,drawing, mode\n",
    "\n",
    "    if event==cv2.EVENT_LBUTTONDOWN:\n",
    "        drawing=True\n",
    "        ix,iy=x,y\n",
    "\n",
    "    elif event==cv2.EVENT_MOUSEMOVE:\n",
    "        if drawing==True:\n",
    "            if mode==True:\n",
    "                cv2.line(img,(ix,iy),(x,y),(0,0,255),10)\n",
    "                ix=x\n",
    "                iy=y\n",
    "\n",
    "#                 print (x,y)\n",
    "    elif event==cv2.EVENT_LBUTTONUP:\n",
    "        drawing=False\n",
    "        if mode==True:\n",
    "            cv2.line(img,(ix,iy),(x,y),(0,0,255),10)\n",
    "            ix=x\n",
    "            iy=y\n",
    "            #print x,y\n",
    "            #cv2.line(img,(x,y),(x,y),(0,0,255),10)\n",
    "    return x,y\n",
    "\n",
    "\n",
    "\n",
    "\n",
    "img = np.zeros((512,512,3), np.uint8)\n",
    "\n",
    "cv2.namedWindow('image')\n",
    "cv2.setMouseCallback('image',interactive_drawing)\n",
    "while(1):\n",
    "    cv2.imshow('image',img)\n",
    "    k=cv2.waitKey(1)&0xFF\n",
    "    if k==27:\n",
    "        break\n",
    "cv2.destroyAllWindows()"
   ]
  },
  {
   "cell_type": "code",
   "execution_count": 13,
   "metadata": {},
   "outputs": [],
   "source": [
    "import os"
   ]
  },
  {
   "cell_type": "code",
   "execution_count": null,
   "metadata": {},
   "outputs": [],
   "source": [
    "!python predict.py"
   ]
  },
  {
   "cell_type": "code",
   "execution_count": null,
   "metadata": {},
   "outputs": [],
   "source": []
  }
 ],
 "metadata": {
  "kernelspec": {
   "display_name": "Python (keras)",
   "language": "python",
   "name": "keras"
  },
  "language_info": {
   "codemirror_mode": {
    "name": "ipython",
    "version": 3
   },
   "file_extension": ".py",
   "mimetype": "text/x-python",
   "name": "python",
   "nbconvert_exporter": "python",
   "pygments_lexer": "ipython3",
   "version": "3.6.6"
  }
 },
 "nbformat": 4,
 "nbformat_minor": 2
}
